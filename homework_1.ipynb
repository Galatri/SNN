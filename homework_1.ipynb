{
  "nbformat": 4,
  "nbformat_minor": 0,
  "metadata": {
    "colab": {
      "provenance": []
    },
    "kernelspec": {
      "name": "python3",
      "display_name": "Python 3"
    },
    "language_info": {
      "name": "python"
    }
  },
  "cells": [
    {
      "cell_type": "markdown",
      "source": [
        "Calcula la matriu resultant y diagonalitza-la:\n"
      ],
      "metadata": {
        "id": "AmdyF8H6BnFh"
      }
    },
    {
      "cell_type": "code",
      "execution_count": 1,
      "metadata": {
        "id": "cJGyG6PClOWW"
      },
      "outputs": [],
      "source": [
        "import numpy as np"
      ]
    },
    {
      "cell_type": "markdown",
      "source": [
        "Definim les matrius"
      ],
      "metadata": {
        "id": "vDfaeaJnB41o"
      }
    },
    {
      "cell_type": "code",
      "source": [
        "matriu_a=np.array([[4,1,2],[1,3,1],[2,1,4]])\n",
        "matriu_b=np.array([[2,0,1],[0,3,0],[1,0,2]])"
      ],
      "metadata": {
        "id": "q53_1fjIBlqi"
      },
      "execution_count": 10,
      "outputs": []
    },
    {
      "cell_type": "markdown",
      "source": [
        "Multipliquem les matrius"
      ],
      "metadata": {
        "id": "cFYyaATlDBgF"
      }
    },
    {
      "cell_type": "code",
      "source": [
        "resultat=np.dot(matriu_a,matriu_b)"
      ],
      "metadata": {
        "id": "Bm388r0cDEg7"
      },
      "execution_count": 11,
      "outputs": []
    },
    {
      "cell_type": "code",
      "source": [
        "print(\"Matriu resultant de la multiplicació\")\n",
        "print(resultat)"
      ],
      "metadata": {
        "colab": {
          "base_uri": "https://localhost:8080/"
        },
        "id": "NPcC2jAdDRLW",
        "outputId": "6f5df804-2da1-43ee-b9db-48318bf31f38"
      },
      "execution_count": 12,
      "outputs": [
        {
          "output_type": "stream",
          "name": "stdout",
          "text": [
            "Matriu resultant de la multiplicació\n",
            "[[10  3  8]\n",
            " [ 3  9  3]\n",
            " [ 8  3 10]]\n"
          ]
        }
      ]
    },
    {
      "cell_type": "markdown",
      "source": [
        "Calculem els valors i vectors pròpis"
      ],
      "metadata": {
        "id": "gKahFLJ_Dt1V"
      }
    },
    {
      "cell_type": "code",
      "source": [
        "eigenvalues, eigenvectors=np.linalg.eig(resultat)"
      ],
      "metadata": {
        "id": "vPJXIKMhDyoz"
      },
      "execution_count": 13,
      "outputs": []
    },
    {
      "cell_type": "markdown",
      "source": [
        "Formem la matriu diagonal amb els valors propis"
      ],
      "metadata": {
        "id": "K48LbA2PEGkh"
      }
    },
    {
      "cell_type": "code",
      "source": [
        "matriu_diagonal=np.diag(eigenvalues)"
      ],
      "metadata": {
        "id": "s-F9As4QEF4n"
      },
      "execution_count": 14,
      "outputs": []
    },
    {
      "cell_type": "code",
      "source": [
        "print(\"Matriu diagonalitzada\")\n",
        "print(matriu_diagonal)"
      ],
      "metadata": {
        "colab": {
          "base_uri": "https://localhost:8080/"
        },
        "id": "jSha5NleEySm",
        "outputId": "cd9c7ca2-dc87-4cf5-f2de-48a93b2ff3bb"
      },
      "execution_count": 15,
      "outputs": [
        {
          "output_type": "stream",
          "name": "stdout",
          "text": [
            "Matriu diagonalitzada\n",
            "[[19.68465844  0.          0.        ]\n",
            " [ 0.          2.          0.        ]\n",
            " [ 0.          0.          7.31534156]]\n"
          ]
        }
      ]
    }
  ]
}